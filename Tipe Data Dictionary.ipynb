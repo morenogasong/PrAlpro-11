{
  "nbformat": 4,
  "nbformat_minor": 0,
  "metadata": {
    "colab": {
      "provenance": []
    },
    "kernelspec": {
      "name": "python3",
      "display_name": "Python 3"
    },
    "language_info": {
      "name": "python"
    }
  },
  "cells": [
    {
      "cell_type": "markdown",
      "source": [
        "1. Buatlah sebuah program untuk mendapatkan nilai key, value, dan item dari sebuah dictionary.\n",
        "\n",
        "Contoh:\n",
        "\n",
        "Dictionary : {1: 10, 2: 20, 3: 30, 4: 40, 5: 50, 6: 60}\n",
        "\n",
        "Output: key \tvalue\t item\n",
        "\n",
        "1 \t10 \t1\n",
        "\n",
        "2 \t20\t2\n",
        "\n",
        "3 \t30\t3\n",
        "\n",
        "4 \t40 \t4\n",
        "\n",
        "5 \t50 \t5\n",
        "\n",
        "6 \t60 \t6\n"
      ],
      "metadata": {
        "id": "bJ_Gr0rtS_dv"
      }
    },
    {
      "cell_type": "code",
      "source": [
        "pan = {1: 10, 2: 20, 3: 30, 4: 40, 5: 50, 6: 60}\n",
        "\n",
        "print(\"key  value  item\")\n",
        "for key, value in pan.items():\n",
        "    print(f\"{key}     {value}     {key}\")"
      ],
      "metadata": {
        "colab": {
          "base_uri": "https://localhost:8080/"
        },
        "id": "p-0qMPwJTKA4",
        "outputId": "5592d58c-94c6-4dc6-fb81-c18f291cc6c4"
      },
      "execution_count": 1,
      "outputs": [
        {
          "output_type": "stream",
          "name": "stdout",
          "text": [
            "key  value  item\n",
            "1     10     1\n",
            "2     20     2\n",
            "3     30     3\n",
            "4     40     4\n",
            "5     50     5\n",
            "6     60     6\n"
          ]
        }
      ]
    },
    {
      "cell_type": "markdown",
      "source": [
        "2. Buatlah sebuah program untuk memetakan dua list mejadi satu dictionary.\n",
        "Contoh:\n",
        "\n",
        "Data List\n",
        "\n",
        "Lista = ['red', 'green', 'blue']\n",
        "\n",
        "Listb = ['#FF0000','#008000', '#0000FF']\n",
        "\n",
        "Output : {'green': '#008000', 'blue': '#0000FF', 'red': '#FF0000'}\n"
      ],
      "metadata": {
        "id": "FKaACyhqTVqZ"
      }
    },
    {
      "cell_type": "code",
      "source": [
        "Lista = ['red', 'green', 'blue']\n",
        "Listb = ['#FF0000','#008000', '#0000FF']\n",
        "\n",
        "warna = {}\n",
        "\n",
        "for p, q in zip(Lista, Listb):\n",
        "    warna[p] = q\n",
        "\n",
        "print(warna)"
      ],
      "metadata": {
        "colab": {
          "base_uri": "https://localhost:8080/"
        },
        "id": "nFThRMqITb8H",
        "outputId": "c9f164f3-29de-4768-d2ee-6ec8b1b99371"
      },
      "execution_count": 2,
      "outputs": [
        {
          "output_type": "stream",
          "name": "stdout",
          "text": [
            "{'red': '#FF0000', 'green': '#008000', 'blue': '#0000FF'}\n"
          ]
        }
      ]
    },
    {
      "cell_type": "markdown",
      "source": [
        "3. Dengan menggunakan file mbox-short.txt, buatlah program yang dapat membaca log email dan sajikan dalam histogram menggunakan dictionary. Kemudian hitung berapa banyak pesan yang masuk dari email dan sajikan dalam bentuk dictionary. Silakan cek bagian dibawah ini untuk contoh output dari programnya"
      ],
      "metadata": {
        "id": "RewL13UMTeE-"
      }
    },
    {
      "cell_type": "code",
      "source": [
        "def email_histogram(filename):\n",
        "    histogram = {}\n",
        "    with open(filename, 'r') as f:\n",
        "        for line in f:\n",
        "            if line.startswith('From: '):\n",
        "                email = line.split()[1]\n",
        "                if email in histogram:\n",
        "                    histogram[email] += 1\n",
        "                else:\n",
        "                    histogram[email] = 1\n",
        "    return histogram\n",
        "\n",
        "filename = input(\"Masukkan nama file: \")\n",
        "histogram = email_histogram(filename)\n",
        "print(histogram)"
      ],
      "metadata": {
        "id": "0hZllyD0T0yw"
      },
      "execution_count": null,
      "outputs": []
    },
    {
      "cell_type": "markdown",
      "source": [
        "4. Dengan menggunakan file mbox-short.txt, buat program untuk mencatat data nama domain pengirim pesan. Hitunglah jumlah pesan yang dikirim masing-masing domain. sajikan dalam bentuk dictionary"
      ],
      "metadata": {
        "id": "k7IRz1RfT3Ve"
      }
    },
    {
      "cell_type": "code",
      "source": [
        "def domain_histogram(filename):\n",
        "    histogram = {}\n",
        "    with open(filename, 'r') as f:\n",
        "        for line in f:\n",
        "            if line.startswith('From: '):\n",
        "                email = line.split()[1]\n",
        "                domain = email.split('@')[1]\n",
        "                if domain in histogram:\n",
        "                    histogram[domain] += 1\n",
        "                else:\n",
        "                    histogram[domain] = 1\n",
        "    return histogram\n",
        "\n",
        "filename = input(\"Masukkan nama file: \")\n",
        "histogram = domain_histogram(filename)\n",
        "print(histogram)"
      ],
      "metadata": {
        "id": "srQ1wNtoT6hy"
      },
      "execution_count": null,
      "outputs": []
    }
  ]
}